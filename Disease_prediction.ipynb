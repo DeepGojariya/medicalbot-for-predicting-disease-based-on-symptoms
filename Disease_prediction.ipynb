{
 "cells": [
  {
   "cell_type": "code",
   "execution_count": 1,
   "metadata": {},
   "outputs": [],
   "source": [
    "import numpy as np\n",
    "import matplotlib.pyplot as plt\n",
    "import pandas as pd\n",
    "\n",
    "training_dataset = pd.read_csv('Training.csv')\n",
    "test_dataset = pd.read_csv('Testing.csv')\n",
    "\n",
    "X = training_dataset.iloc[:, :-1].values\n",
    "Y = training_dataset.iloc[:, -1].values\n",
    "\n",
    "X_test = test_dataset.iloc[:, :-1].values\n",
    "Y_test = test_dataset.iloc[:, -1].values"
   ]
  },
  {
   "cell_type": "code",
   "execution_count": 2,
   "metadata": {},
   "outputs": [
    {
     "data": {
      "text/plain": [
       "'\\nY_pred = classifier.predict(X_test)\\n#Y_pred\\nprint(type(Y_pred),type(y_test))\\n\\nprint(y_test,Y_pred)\\n\\nfrom sklearn.metrics import classification_report, confusion_matrix, accuracy_score\\nresult = confusion_matrix(y_test, Y_pred)\\nprint(\"Confusion Matrix:\")\\nprint(result)\\nresult1 = classification_report(y_test, Y_pred)\\nprint(\"Classification Report:\",)\\nprint (result1)\\nresult2 = accuracy_score(y_test,Y_pred)\\nprint(\"Accuracy:\",result2)\\n'"
      ]
     },
     "execution_count": 2,
     "metadata": {},
     "output_type": "execute_result"
    }
   ],
   "source": [
    "from sklearn.preprocessing import LabelEncoder\n",
    "labelencoder = LabelEncoder()\n",
    "y = labelencoder.fit_transform(Y)\n",
    "y_test = labelencoder.fit_transform(Y_test)\n",
    " \n",
    "from sklearn.ensemble import RandomForestClassifier\n",
    "classifier = RandomForestClassifier(n_estimators=100)\n",
    "classifier.fit(X, y)\n",
    "\n",
    "'''\n",
    "Y_pred = classifier.predict(X_test)\n",
    "#Y_pred\n",
    "print(type(Y_pred),type(y_test))\n",
    "\n",
    "print(y_test,Y_pred)\n",
    "\n",
    "from sklearn.metrics import classification_report, confusion_matrix, accuracy_score\n",
    "result = confusion_matrix(y_test, Y_pred)\n",
    "print(\"Confusion Matrix:\")\n",
    "print(result)\n",
    "result1 = classification_report(y_test, Y_pred)\n",
    "print(\"Classification Report:\",)\n",
    "print (result1)\n",
    "result2 = accuracy_score(y_test,Y_pred)\n",
    "print(\"Accuracy:\",result2)\n",
    "'''"
   ]
  },
  {
   "cell_type": "code",
   "execution_count": 3,
   "metadata": {},
   "outputs": [
    {
     "name": "stdout",
     "output_type": "stream",
     "text": [
      "Enter symptoms(seperated by space)stomach_pain vomiting headache\n"
     ]
    }
   ],
   "source": [
    "dim_redu = pd.read_csv('dimensionality_reduction.csv')\n",
    "dim_temp = dim_redu.iloc[:, :-1].values\n",
    "temp=dim_temp[ 0 , :].reshape(1, -1)\n",
    "\n",
    "pr= classifier.predict(temp)\n",
    "pr\n",
    "\n",
    "import pandas as pd\n",
    "\n",
    "# making data frame\n",
    "data = pd.read_csv(\"dimensionality_reduction.csv\")\n",
    "i=0\n",
    "a = []\n",
    "type(a)\n",
    "\n",
    "# iterating the columns\n",
    "for col in data.columns:\n",
    "    a.append(col) \n",
    "    i=i+1\n",
    "\n",
    "#print(len(a))\n",
    "a.pop()\n",
    "l=len(a)\n",
    "#print(a)\n",
    "\n",
    "s = [0] * l\n",
    "len(s)\n",
    "\n",
    "symptoms=input('Enter symptoms(seperated by space)')\n",
    "\n",
    "#irregular_sugar_level fatigue weight_loss restlessness\n",
    "#extra_marital_contacts high_fever patches_in_throat muscle_wasting"
   ]
  },
  {
   "cell_type": "code",
   "execution_count": 4,
   "metadata": {},
   "outputs": [],
   "source": [
    "\n",
    "#type(symptoms)\n",
    "import nltk\n",
    "symptoms_word=nltk.word_tokenize(symptoms)\n",
    "#print(symptoms_word[0])\n",
    "#print(symptoms_word)\n",
    "l=len(symptoms_word)\n",
    "\n",
    "for i in symptoms_word:\n",
    "    s[a.index(i)]=1\n",
    "    \n",
    "#print(s)\n",
    "s=np.array(s)\n",
    "s=s.reshape(-1,1)\n",
    "s.shape\n",
    "s=s.T\n",
    "#type(s)\n",
    "#s.shape\n",
    "\n",
    "\n",
    "index = pd.read_csv(\"dimensionality_reduction.csv\")\n",
    "#index\n",
    "#index[0,1]\n"
   ]
  },
  {
   "cell_type": "code",
   "execution_count": 5,
   "metadata": {},
   "outputs": [
    {
     "name": "stdout",
     "output_type": "stream",
     "text": [
      "['(vertigo) Paroymsal  Positional Vertigo' 'Alcoholic hepatitis'\n",
      " 'Chicken pox' 'Chronic cholestasis' 'Common Cold' 'Dengue'\n",
      " 'Drug Reaction' 'GERD' 'Gastroenteritis' 'Heart attack' 'Hepatitis D'\n",
      " 'Hepatitis E' 'Hypertension' 'Hypoglycemia' 'Jaundice' 'Malaria'\n",
      " 'Migraine' 'Paralysis (brain hemorrhage)' 'Peptic ulcer diseae'\n",
      " 'Tuberculosis' 'Typhoid' 'hepatitis A']\n"
     ]
    }
   ],
   "source": [
    "ndiseases = []\n",
    "for i in symptoms_word:\n",
    "    #print(i)\n",
    "    #for j in index:\n",
    "        #print(j)\n",
    "    for k in range (41):\n",
    "            #print(index[j])\n",
    "        #print(index[i][1])\n",
    "           # print(index['prognosis'])\n",
    "        if index[i][k] == 1:    \n",
    "            ndiseases.append(index['prognosis'][k])\n",
    "            \n",
    "#ndiseases\n",
    "\n",
    "x = np.array(ndiseases) \n",
    "print(np.unique(x)) "
   ]
  },
  {
   "cell_type": "code",
   "execution_count": 6,
   "metadata": {},
   "outputs": [],
   "source": [
    "z=classifier.predict(s)\n",
    "#print(z) [26]\n",
    "\n",
    "R=labelencoder.inverse_transform(z)\n",
    "#print(R) ['Hypothyroidism']\n",
    "\n",
    "disease=dim_redu.iloc[:, -1]\n",
    "len_disease=len(disease)\n",
    "#print(disease)\n",
    "Number=[];\n",
    "for i in range(len_disease):\n",
    "    j=0\n",
    "    #print(R[j], disease[i],i)\n",
    "    if R[j] ==  disease[i]:\n",
    "        Number=i\n",
    "        j=j+1\n",
    "    i=i+1\n",
    "#print(Number)  "
   ]
  },
  {
   "cell_type": "code",
   "execution_count": 7,
   "metadata": {},
   "outputs": [
    {
     "name": "stdout",
     "output_type": "stream",
     "text": [
      "These are other sysmptoms for  ['GERD']\n",
      "['acidity', 'ulcers_on_tongue', 'cough', 'chest_pain']\n",
      "\n",
      "Enter no if that symptom is not related to you \n",
      "acidity\n",
      "yes\n",
      "ulcers_on_tongue\n",
      "no\n",
      "cough\n",
      "no\n",
      "chest_pain\n",
      "no\n",
      "\n"
     ]
    }
   ],
   "source": [
    "feature_row=dim_redu.loc[Number,:]\n",
    "feature_row=feature_row.to_numpy()\n",
    "#print(feature_row.shape);\n",
    "\n",
    "#print(a)\n",
    "features=[]\n",
    "not_match_features=[]\n",
    "\n",
    "for i in range(133):\n",
    "    #print(feature_row[i],a[i])\n",
    "    if feature_row[i] == 1:\n",
    "        #print(a[i])\n",
    "        features.append(a[i])\n",
    "    i=i+1\n",
    "#print(features)    \n",
    "for k in range(len(symptoms_word)):\n",
    "     #print(symptoms_word[k]);\n",
    "    j=0\n",
    "    for j in features:\n",
    "        if symptoms_word[k] == j:\n",
    "            #print(symptoms_word[k], j)\n",
    "            #not_match_features.append(features[j])\n",
    "            features.remove(j);\n",
    "            \n",
    "    k=k+1   \n",
    "\n",
    "print(\"These are other sysmptoms for \",R)\n",
    "print(features)\n",
    "print(\"\")\n",
    "print(\"Enter no if that symptom is not related to you \")\n",
    "s=s.T\n",
    "#print(a)\n",
    "lst = [ ] \n",
    "n = len(features)\n",
    "\n",
    "for m in features: \n",
    "    print(m)\n",
    "    ele = str(input())\n",
    "    if ele == \"yes\":\n",
    "       #print(a.index(m))\n",
    "        s[a.index(m)]=1\n",
    "s=s.T\n",
    "print(\"\")\n",
    "#print(s)"
   ]
  },
  {
   "cell_type": "code",
   "execution_count": 8,
   "metadata": {},
   "outputs": [],
   "source": [
    "pr1= classifier.predict(s)\n",
    "#print(pr1)\n",
    "R1=labelencoder.inverse_transform(pr1)\n",
    "#print(R1)\n",
    "#print(s)"
   ]
  },
  {
   "cell_type": "code",
   "execution_count": 9,
   "metadata": {},
   "outputs": [],
   "source": [
    "disease_original=dim_redu.loc[pr1]\n",
    "type(disease_original)\n",
    "temp=disease_original.drop(columns=['prognosis'])\n",
    "disease_original = np.array(temp)\n",
    "s=np.array(s)\n",
    "\n",
    "#print(s)print(disease_original)print(type(s))print(type(disease_original))"
   ]
  },
  {
   "cell_type": "code",
   "execution_count": 10,
   "metadata": {},
   "outputs": [
    {
     "name": "stdout",
     "output_type": "stream",
     "text": [
      "Probability of having is  ['GERD']\n",
      "50.0\n"
     ]
    }
   ],
   "source": [
    "count=0\n",
    "total=0\n",
    "\n",
    "\n",
    "for j in range(len(disease_original.T)):\n",
    "   # print(disease_original.T[j])\n",
    "    if (disease_original.T[j]==1):\n",
    "        total=total+1\n",
    "\n",
    "#print(total)\n",
    "for i in range(len(disease_original.T)):\n",
    "    if (s.T[i]==disease_original.T[i] and disease_original.T[i]==1):\n",
    "        count=count+1\n",
    "    \n",
    "print(\"Probability of having is \",R);\n",
    "prp=(count/total)*100;\n",
    "print(prp)"
   ]
  },
  {
   "cell_type": "code",
   "execution_count": null,
   "metadata": {},
   "outputs": [],
   "source": []
  }
 ],
 "metadata": {
  "kernelspec": {
   "display_name": "Python 3",
   "language": "python",
   "name": "python3"
  },
  "language_info": {
   "codemirror_mode": {
    "name": "ipython",
    "version": 3
   },
   "file_extension": ".py",
   "mimetype": "text/x-python",
   "name": "python",
   "nbconvert_exporter": "python",
   "pygments_lexer": "ipython3",
   "version": "3.7.4"
  }
 },
 "nbformat": 4,
 "nbformat_minor": 2
}
